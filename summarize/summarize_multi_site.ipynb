{
 "cells": [
  {
   "cell_type": "code",
   "execution_count": 1,
   "id": "95a49f80-079d-4c0f-8225-5afb4cba25ef",
   "metadata": {},
   "outputs": [],
   "source": [
    "# Cell 1: Imports and Setup\n",
    "import os\n",
    "import requests\n",
    "from dotenv import load_dotenv\n",
    "from bs4 import BeautifulSoup\n",
    "from IPython.display import Markdown, display\n",
    "import openai"
   ]
  },
  {
   "cell_type": "code",
   "execution_count": 2,
   "id": "58b5d272-1f92-4ff0-8a03-1a6773bbf203",
   "metadata": {},
   "outputs": [
    {
     "name": "stdout",
     "output_type": "stream",
     "text": [
      "API key found and looks good so far!\n"
     ]
    }
   ],
   "source": [
    "# Cell 2: Load Environment Variables and Verify API Key\n",
    "load_dotenv(override=True)\n",
    "api_key = os.getenv('OPENAI_API_KEY')\n",
    "\n",
    "if not api_key:\n",
    "    print(\"No API key was found - please set the OPENAI_API_KEY in your .env file.\")\n",
    "elif not api_key.startswith(\"sk-proj-\"):\n",
    "    print(\"An API key was found, but it doesn't start with 'sk-proj-'; please check you're using the right key.\")\n",
    "elif api_key.strip() != api_key:\n",
    "    print(\"An API key was found, but it has leading or trailing whitespace - please remove them.\")\n",
    "else:\n",
    "    print(\"API key found and looks good so far!\")\n",
    "    openai.api_key = api_key  # Set the API key for OpenAI"
   ]
  },
  {
   "cell_type": "code",
   "execution_count": 3,
   "id": "27027883-8ec2-4225-b0aa-d550a9e2f22b",
   "metadata": {},
   "outputs": [],
   "source": [
    "# Cell 3: Define Headers for HTTP Requests\n",
    "headers = {\n",
    "    \"User-Agent\": (\n",
    "        \"Mozilla/5.0 (Windows NT 10.0; Win64; x64) \"\n",
    "        \"AppleWebKit/537.36 (KHTML, like Gecko) \"\n",
    "        \"Chrome/117.0.0.0 Safari/537.36\"\n",
    "    )\n",
    "}"
   ]
  },
  {
   "cell_type": "code",
   "execution_count": 4,
   "id": "7f6f5abe-f70c-4aaf-a8d9-3e913e1f5613",
   "metadata": {},
   "outputs": [],
   "source": [
    "# Cell 4: Define the Website Class\n",
    "class Website:\n",
    "    def __init__(self, url):\n",
    "        \"\"\"\n",
    "        Create a Website object from the given URL using BeautifulSoup.\n",
    "        \"\"\"\n",
    "        self.url = url\n",
    "        try:\n",
    "            response = requests.get(url, headers=headers, timeout=10)\n",
    "            response.raise_for_status()  # Raise error if status is not 200\n",
    "        except requests.exceptions.RequestException as e:\n",
    "            print(f\"Error fetching {url}: {e}\")\n",
    "            self.title = \"Error fetching the website\"\n",
    "            self.text = \"\"\n",
    "            return\n",
    "\n",
    "        soup = BeautifulSoup(response.content, 'html.parser')\n",
    "        self.title = soup.title.string.strip() if soup.title and soup.title.string else \"No title found\"\n",
    "\n",
    "        # Remove irrelevant tags\n",
    "        for tag in soup.find_all([\"script\", \"style\", \"img\", \"input\", \"nav\", \"footer\", \"header\", \"aside\"]):\n",
    "            tag.decompose()\n",
    "\n",
    "        # Get text from the body, if available\n",
    "        body = soup.body\n",
    "        if body:\n",
    "            self.text = body.get_text(separator=\"\\n\", strip=True)\n",
    "        else:\n",
    "            self.text = \"No body content found.\""
   ]
  },
  {
   "cell_type": "code",
   "execution_count": 12,
   "id": "126b27c1-050b-4e16-8125-b2fbe97cf36e",
   "metadata": {
    "editable": true,
    "slideshow": {
     "slide_type": ""
    },
    "tags": []
   },
   "outputs": [],
   "source": [
    "# Cell 5: Define System Prompt\n",
    "system_prompt = (\n",
    "    \"You are an assistant that analyzes the contents of a website \"\n",
    "    \"and provides a short summary in german, ignoring text that might be navigation related. \"\n",
    "    \"Respond in markdown.\"\n",
    ")"
   ]
  },
  {
   "cell_type": "code",
   "execution_count": 13,
   "id": "c3365825-096f-4b02-b89e-c1c6649580f6",
   "metadata": {},
   "outputs": [],
   "source": [
    "# Cell 6: Define User Prompt Function\n",
    "def user_prompt_for(website):\n",
    "    user_prompt = f\"You are looking at a website titled '{website.title}'.\\n\"\n",
    "    user_prompt += (\n",
    "        \"The contents of this website are as follows:\\n\"\n",
    "        \"Please provide a short summary of this website in markdown. \"\n",
    "        \"If it includes news or announcements, then summarize these too.\\n\\n\"\n",
    "    )\n",
    "    user_prompt += website.text\n",
    "    return user_prompt"
   ]
  },
  {
   "cell_type": "code",
   "execution_count": 14,
   "id": "871d83e9-fa7a-48de-a8fc-c60c9106bfb2",
   "metadata": {
    "editable": true,
    "slideshow": {
     "slide_type": ""
    },
    "tags": []
   },
   "outputs": [],
   "source": [
    "# Cell 7: Define Messages for OpenAI API\n",
    "def messages_for(website):\n",
    "    return [\n",
    "        {\"role\": \"system\", \"content\": system_prompt},\n",
    "        {\"role\": \"user\", \"content\": user_prompt_for(website)}\n",
    "    ]"
   ]
  },
  {
   "cell_type": "code",
   "execution_count": 15,
   "id": "48648c50-bf47-4aa1-8ccc-384c5796c795",
   "metadata": {
    "editable": true,
    "slideshow": {
     "slide_type": ""
    },
    "tags": []
   },
   "outputs": [],
   "source": [
    "# Cell 8: Define Summarization Function\n",
    "def summarize(url):\n",
    "    website = Website(url)\n",
    "    if not website.text:\n",
    "        return f\"Could not retrieve content from {url}.\"\n",
    "\n",
    "    try:\n",
    "        # Use the available ChatCompletion API (choose a model available in your account, e.g., \"gpt-4\" or \"gpt-3.5-turbo\")\n",
    "        response = openai.chat.completions.create(\n",
    "            model=\"gpt-4o-mini\",  # Change as necessary\n",
    "            messages=messages_for(website)\n",
    "        )\n",
    "        summary = response.choices[0].message.content.strip()\n",
    "        return summary\n",
    "    except Exception as e:\n",
    "        # Catching all exceptions instead of openai.error.OpenAIError since your module might not expose that attribute\n",
    "        return f\"An error occurred while summarizing {url}: {e}\""
   ]
  },
  {
   "cell_type": "code",
   "execution_count": 16,
   "id": "51c49720-ae8c-4916-8ba5-841f81430dcf",
   "metadata": {
    "editable": true,
    "slideshow": {
     "slide_type": ""
    },
    "tags": []
   },
   "outputs": [],
   "source": [
    "# Cell 9: Define Display Summary Function\n",
    "def display_summary(url):\n",
    "    print(f\"Fetching and summarizing: {url}\")\n",
    "    summary = summarize(url)\n",
    "    if summary:\n",
    "        display(Markdown(f\"### Summary for [{url}]({url})\\n\\n{summary}\"))\n",
    "    print(\"\\n\" + \"=\"*80 + \"\\n\")"
   ]
  },
  {
   "cell_type": "code",
   "execution_count": 19,
   "id": "af0c388e-c8a1-40cd-ae4f-fe312a336b2d",
   "metadata": {},
   "outputs": [],
   "source": [
    "# Cell 10: Define List of URLs to Summarize\n",
    "urls = [\n",
    "    \"https://www.duesseldorp.de\",\n",
    "    \"https://www.github.com/Duesseldorp\",\n",
    "    # Add more URLs as needed\n",
    "]"
   ]
  },
  {
   "cell_type": "code",
   "execution_count": 20,
   "id": "37637681-363f-49e1-b892-2fa8db9c97ef",
   "metadata": {
    "editable": true,
    "slideshow": {
     "slide_type": ""
    },
    "tags": []
   },
   "outputs": [
    {
     "name": "stdout",
     "output_type": "stream",
     "text": [
      "Fetching and summarizing: https://www.duesseldorp.de\n"
     ]
    },
    {
     "data": {
      "text/markdown": [
       "### Summary for [https://www.duesseldorp.de](https://www.duesseldorp.de)\n",
       "\n",
       "# Zusammenfassung der Website 'DUESSELDORP'\n",
       "\n",
       "Die Website 'DUESSELDORP' kombiniert Kunst, Fitness, Künstliche Intelligenz (KI) und Blockchain-Technologie und feiert die vielfältige Kulturszene in Düsseldorf, einschließlich des Karnevals. Der Blog-Autor teilt seine Leidenschaft für digitale Trends, Kunst im öffentlichen Raum und die lebendige Atmosphäre der Stadt.\n",
       "\n",
       "## Hauptinhalte\n",
       "\n",
       "- **Düsseldorfer Karneval 2025**: Ein umfassender Leitfaden zu den besten Events und Highlights des Karnevals in Düsseldorf, inklusive Insider-Tipps.\n",
       "  \n",
       "- **Künstliche Intelligenz**: Artikel über die Fusion von KI, Kunst und Musik sowie die Möglichkeiten, die KI für kreative Innovationen bietet.\n",
       "\n",
       "- **Blockchain und DLT**: Informationen über die Bedeutung von Blockchain-Technologien und deren Anwendung zur Verbesserung von Effizienz und Transparenz.\n",
       "\n",
       "## Aktuelle Artikel\n",
       "\n",
       "- **Ollama für Windows**: Vorstellung einer Open-Source-KI-Plattform zur einfachen und sicheren Einrichtung lokaler KI-Modelle.\n",
       "\n",
       "- **AGI: Chancen und Risiken**: Diskussion über die bevorstehenden Entwicklungen und Herausforderungen im Zusammenhang mit Künstlicher Allgemeiner Intelligenz.\n",
       "\n",
       "- **Mensch, Maschine und das Echo der Zukunft**: Ein Einblick in die Bedeutung automatisierter Prozesse im modernen Leben.\n",
       "\n",
       "Die Website ermutigt die Leser, sich mit den Themen Technik, Kunst und der Düsseldorfer Kultur auseinanderzusetzen und die künstlerischen sowie betrieblichen Möglichkeiten der digitalen Revolution zu erkunden."
      ],
      "text/plain": [
       "<IPython.core.display.Markdown object>"
      ]
     },
     "metadata": {},
     "output_type": "display_data"
    },
    {
     "name": "stdout",
     "output_type": "stream",
     "text": [
      "\n",
      "================================================================================\n",
      "\n",
      "Fetching and summarizing: https://www.github.com/Duesseldorp\n"
     ]
    },
    {
     "data": {
      "text/markdown": [
       "### Summary for [https://www.github.com/Duesseldorp](https://www.github.com/Duesseldorp)\n",
       "\n",
       "```markdown\n",
       "### Zusammenfassung der Website 'Duesseldorp (Martin Gräbing) · GitHub'\n",
       "\n",
       "Die Website gehört Martin Gräbing und ist auf GitHub gehostet. Sie ist als Portfolio für das Projekt 'Duesseldorp' gestaltet, dass vermutlich im Bereich der Künstlichen Intelligenz liegt. Ein relevantes Projekt, das erwähnt wird, ist 'ai_experimental', welches als öffentliches Experimentierfeld für KI in Jupyter Notebooks dient.\n",
       "\n",
       "Zusätzlich enthält die Seite Links zu anderen Funktionen von GitHub, wie Repositories, Projekten und Paketen, sowie Informationen über die Mitgliedschaft seit dem 10. Januar 2025.\n",
       "```"
      ],
      "text/plain": [
       "<IPython.core.display.Markdown object>"
      ]
     },
     "metadata": {},
     "output_type": "display_data"
    },
    {
     "name": "stdout",
     "output_type": "stream",
     "text": [
      "\n",
      "================================================================================\n",
      "\n"
     ]
    }
   ],
   "source": [
    "# Cell 11: Iterate Over URLs and Display Summaries\n",
    "for url in urls:\n",
    "    try:\n",
    "        display_summary(url)\n",
    "    except Exception as e:\n",
    "        print(f\"Failed to summarize {url}: {e}\")\n",
    "        print(\"\\n\" + \"=\"*80 + \"\\n\")"
   ]
  },
  {
   "cell_type": "code",
   "execution_count": null,
   "id": "f7b5cd0b-4515-4000-b291-d3e204a291ff",
   "metadata": {},
   "outputs": [],
   "source": []
  }
 ],
 "metadata": {
  "kernelspec": {
   "display_name": "Python 3 (ipykernel)",
   "language": "python",
   "name": "python3"
  },
  "language_info": {
   "codemirror_mode": {
    "name": "ipython",
    "version": 3
   },
   "file_extension": ".py",
   "mimetype": "text/x-python",
   "name": "python",
   "nbconvert_exporter": "python",
   "pygments_lexer": "ipython3",
   "version": "3.11.11"
  }
 },
 "nbformat": 4,
 "nbformat_minor": 5
}
